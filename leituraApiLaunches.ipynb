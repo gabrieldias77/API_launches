{
 "cells": [
  {
   "cell_type": "code",
   "execution_count": 36,
   "id": "63f00d57",
   "metadata": {},
   "outputs": [],
   "source": [
    "import json\n",
    "import requests\n",
    "import pandas as pd"
   ]
  },
  {
   "cell_type": "markdown",
   "id": "6fa923f5",
   "metadata": {},
   "source": [
    "# Leitura da API"
   ]
  },
  {
   "cell_type": "code",
   "execution_count": 37,
   "id": "c211c2fc",
   "metadata": {},
   "outputs": [],
   "source": [
    "url = 'https://api.spacexdata.com/v3/launches'\n",
    "req = requests.get(url)\n",
    "\n",
    "data = req.json()"
   ]
  },
  {
   "cell_type": "code",
   "execution_count": 38,
   "id": "6e2976e5",
   "metadata": {},
   "outputs": [],
   "source": [
    "dfBase = pd.DataFrame.from_dict(data)\n",
    "dfBaseCopy = dfBase.copy()"
   ]
  },
  {
   "cell_type": "markdown",
   "id": "707b6d68",
   "metadata": {},
   "source": [
    "# Tratamento dos dados para visualização"
   ]
  },
  {
   "cell_type": "code",
   "execution_count": 39,
   "id": "1c259893",
   "metadata": {},
   "outputs": [],
   "source": [
    "dfYearCounts = dfBaseCopy[\"launch_year\"].value_counts().rename_axis('launch_year').reset_index(name='counts')"
   ]
  },
  {
   "cell_type": "code",
   "execution_count": 40,
   "id": "763d4e62",
   "metadata": {},
   "outputs": [],
   "source": [
    "dfBaseCopy[\"launch_site\"] = dfBaseCopy[\"launch_site\"].apply(lambda x: x['site_name'])"
   ]
  },
  {
   "cell_type": "code",
   "execution_count": 41,
   "id": "4261010e",
   "metadata": {},
   "outputs": [],
   "source": [
    "dfSiteCounts = dfBaseCopy[\"launch_site\"].value_counts().rename_axis('launch_site').reset_index(name='counts')"
   ]
  },
  {
   "cell_type": "code",
   "execution_count": 42,
   "id": "9a12aa07",
   "metadata": {},
   "outputs": [],
   "source": [
    "dfBaseCopy[\"launch_year\"] = dfBaseCopy[\"launch_year\"].apply(lambda x: int(x))"
   ]
  },
  {
   "cell_type": "code",
   "execution_count": 43,
   "id": "90fb7a65",
   "metadata": {},
   "outputs": [],
   "source": [
    "df2019_2021 = dfBaseCopy[(dfBaseCopy[\"launch_year\"] >= 2019) & (dfBaseCopy[\"launch_year\"] <= 2021)]"
   ]
  },
  {
   "cell_type": "code",
   "execution_count": 44,
   "id": "4869807b",
   "metadata": {},
   "outputs": [],
   "source": [
    "dfTotal2019_2021 = pd.DataFrame(data={'Lançamentos entre 2019 e 2021': [df2019_2021.shape[0]]})"
   ]
  },
  {
   "cell_type": "markdown",
   "id": "2351b09b",
   "metadata": {},
   "source": [
    "# Carregando dados no excel"
   ]
  },
  {
   "cell_type": "code",
   "execution_count": 45,
   "id": "a5a68f5f",
   "metadata": {},
   "outputs": [],
   "source": [
    "writer = pd.ExcelWriter('xpTest.xlsx', engine='xlsxwriter')\n",
    "\n",
    "dfYearCounts.to_excel(writer, sheet_name='Ano mais lançamentos', index=False)  \n",
    "dfSiteCounts.to_excel(writer, sheet_name='Sites que mais lançaram', index=False) \n",
    "dfTotal2019_2021.to_excel(writer, sheet_name='Total entre 2019 e 2021', index=False) \n",
    "\n",
    "writer.save()"
   ]
  }
 ],
 "metadata": {
  "kernelspec": {
   "display_name": "Python 3 (ipykernel)",
   "language": "python",
   "name": "python3"
  },
  "language_info": {
   "codemirror_mode": {
    "name": "ipython",
    "version": 3
   },
   "file_extension": ".py",
   "mimetype": "text/x-python",
   "name": "python",
   "nbconvert_exporter": "python",
   "pygments_lexer": "ipython3",
   "version": "3.10.4"
  }
 },
 "nbformat": 4,
 "nbformat_minor": 5
}
